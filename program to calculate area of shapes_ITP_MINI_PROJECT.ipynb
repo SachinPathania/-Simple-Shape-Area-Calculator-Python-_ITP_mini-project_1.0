{
 "cells": [
  {
   "cell_type": "markdown",
   "metadata": {},
   "source": [
    "# Introduction to Programming – Mini Project 1.0 :"
   ]
  },
  {
   "cell_type": "markdown",
   "metadata": {},
   "source": [
    "## Problem 1:\n",
    "Write a program to calculate area of shapes. Your program should be capable of calculating the area of a square, rectangle, triangle and a circle. The user should be presented with options to select the shape. Based on which shape is chosed by the user, the program should ask for the appropriate input and print the resulting area on the screen.\n",
    "When the program is run, the screen should display something like this:\n",
    "\n",
    "Which shape would you like to calculate the area for? Please enter the option number-\n",
    "1. Square\n",
    "2. Rectangle\n",
    "3. Triangle\n",
    "4. Circle\n",
    "Enter Option: _\n",
    "\n",
    "Say the user enters the option 1.\n",
    "\n",
    "Please enter the length of a side: _\n",
    "\n",
    "If the user enters a value of 5. The output should be:\n",
    "\n",
    "The area of the square is 25\n"
   ]
  },
  {
   "cell_type": "code",
   "execution_count": 1,
   "metadata": {},
   "outputs": [
    {
     "name": "stdout",
     "output_type": "stream",
     "text": [
      "Which shape would you like to calculate the area for? Please enter the option number- \n",
      " \n",
      "1. Square\n",
      "2. Rectangle\n",
      "3. Triangle\n",
      "4. Circle\n",
      "Enter Option:  2\n",
      "\n",
      "Rectange:\n",
      "Please enter the length  : 5\n",
      "Please enter the width  : 4\n",
      "The area of the rectangle is:  20.0\n"
     ]
    }
   ],
   "source": [
    "num = int(input('''Which shape would you like to calculate the area for? Please enter the option number- \\n \n",
    "1. Square\n",
    "2. Rectangle\n",
    "3. Triangle\n",
    "4. Circle\n",
    "Enter Option:  '''))\n",
    "\n",
    "if num==1:\n",
    "        print(\"\\nSquare:\")\n",
    "        s=input(\"Please enter the length of a side: \")\n",
    "        if s.isdigit()==True:\n",
    "            print(\"The area of the square is: \",float(s)**2)  \n",
    "        else: \n",
    "             print(\"Invalid input, Please enter a number\")     \n",
    "     \n",
    "elif num==2:\n",
    "        print(\"\\nRectange:\")\n",
    "        l=input(\"Please enter the length  : \")\n",
    "        w=input(\"Please enter the width  : \")\n",
    "        if l.isdigit()==True and  w.isdigit()==True:\n",
    "            print(\"The area of the rectangle is: \",float(l)*float(w))\n",
    "        else: \n",
    "             print(\"Invalid input, Please enter a number\")\n",
    "elif num==3:\n",
    "            print(\"\\nTriangle:\")\n",
    "            b=input(\"Please enter the base  : \")\n",
    "            h=input(\"Please enter the height  : \")\n",
    "            if b.isdigit()==True and  h.isdigit()==True:\n",
    "                print(\"The area of the triangle is: \",0.5*float(b)*float(h))\n",
    "            else: \n",
    "                 print(\"Invalid input, Please enter a number\")\n",
    "            \n",
    "elif num==4:\n",
    "            print(\"\\nCircle:\")\n",
    "            r=input(\"Please enter the radius  : \")\n",
    "            if r.isdigit()==True:\n",
    "                print(\"The area of the circle is: \",3.14*float(r)**2)\n",
    "            else: \n",
    "                 print(\"Invalid input, Please enter a number\")\n",
    "                \n",
    "        "
   ]
  }
 ],
 "metadata": {
  "kernelspec": {
   "display_name": "Python 3",
   "language": "python",
   "name": "python3"
  },
  "language_info": {
   "codemirror_mode": {
    "name": "ipython",
    "version": 3
   },
   "file_extension": ".py",
   "mimetype": "text/x-python",
   "name": "python",
   "nbconvert_exporter": "python",
   "pygments_lexer": "ipython3",
   "version": "3.7.6"
  }
 },
 "nbformat": 4,
 "nbformat_minor": 4
}
